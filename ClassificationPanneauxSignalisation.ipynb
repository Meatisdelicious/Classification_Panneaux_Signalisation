{
  "nbformat": 4,
  "nbformat_minor": 0,
  "metadata": {
    "colab": {
      "name": "ClassificationPanneauxSignalisation.ipynb",
      "provenance": [],
      "collapsed_sections": [],
      "mount_file_id": "1YoKn5x_lsc9fn6vKm_9VpJ1NX7kxKFJZ",
      "authorship_tag": "ABX9TyNVNtpW/ppbQP7cZOsU9I5r",
      "include_colab_link": true
    },
    "kernelspec": {
      "name": "python3",
      "display_name": "Python 3"
    },
    "language_info": {
      "name": "python"
    }
  },
  "cells": [
    {
      "cell_type": "markdown",
      "metadata": {
        "id": "view-in-github",
        "colab_type": "text"
      },
      "source": [
        "<a href=\"https://colab.research.google.com/github/chenetheophile/ClassificationPanneaux/blob/main/ClassificationPanneauxSignalisation.ipynb\" target=\"_parent\"><img src=\"https://colab.research.google.com/assets/colab-badge.svg\" alt=\"Open In Colab\"/></a>"
      ]
    },
    {
      "cell_type": "code",
      "execution_count": 6,
      "metadata": {
        "id": "nyvBzgwgmlVk"
      },
      "outputs": [],
      "source": [
        "import keras\n",
        "from keras import utils\n",
        "from keras.datasets import mnist\n",
        "from keras.models import Sequential\n",
        "from keras.layers import Dense, Dropout, Flatten\n",
        "from keras.layers import Conv2D, MaxPooling2D\n",
        "from keras import backend as K\n"
      ]
    },
    {
      "cell_type": "code",
      "source": [
        "from google.colab import drive\n",
        "from zipfile import ZipFile\n",
        "import os\n",
        "from PIL import Image\n",
        "drive.mount('/content/drive')\n",
        "ziplist=['./drive/MyDrive/Classification/GTSRB_Final_Test_Images.zip','./drive/MyDrive/Classification/GTSRB_Final_Training_Images.zip']\n",
        "for zip in ziplist:\n",
        "  extrait=ZipFile(zip, \"r\")\n",
        "  extrait.extractall('./Classification')\n",
        "  extrait.close()\n",
        "def searchImage():\n",
        " for root, dirs, files in os.walk(\"./Classification\"):\n",
        "    path = root.split(os.sep)\n",
        "    for file in files:\n",
        "      if \".ppm\" in file:\n",
        "        Image.open(root+'/'+file).save(root+'/'+file[:-3]+\"jpeg\")\n",
        "        os.remove(root+'/'+file)\n",
        "\n",
        "searchImage()"
      ],
      "metadata": {
        "colab": {
          "base_uri": "https://localhost:8080/"
        },
        "id": "A8jaw2bOn-6p",
        "outputId": "7a5202ef-cbf2-4f26-f826-367eef346386"
      },
      "execution_count": 31,
      "outputs": [
        {
          "output_type": "stream",
          "name": "stdout",
          "text": [
            "None\n"
          ]
        }
      ]
    },
    {
      "cell_type": "code",
      "source": [
        "from tensorflow import keras\n",
        "\n",
        "train_ds = keras.utils.image_dataset_from_directory(\n",
        "    directory='Classification/GTSRB/Final_Training/',\n",
        "    labels='inferred',\n",
        "    label_mode='categorical',\n",
        "    batch_size=32,\n",
        "    image_size=(256, 256))\n",
        "validation_ds = keras.utils.image_dataset_from_directory(\n",
        "    directory='Classification/GTSRB/Final_Test/',\n",
        "    labels='inferred',\n",
        "    label_mode='categorical',\n",
        "    batch_size=32,\n",
        "    image_size=(256, 256))"
      ],
      "metadata": {
        "id": "Dp4gOgvRm32w",
        "colab": {
          "base_uri": "https://localhost:8080/"
        },
        "outputId": "0ad0459d-c295-4bb0-9b82-4d830573d0d0"
      },
      "execution_count": 32,
      "outputs": [
        {
          "output_type": "stream",
          "name": "stdout",
          "text": [
            "Found 39209 files belonging to 1 classes.\n",
            "Found 12630 files belonging to 1 classes.\n"
          ]
        }
      ]
    },
    {
      "cell_type": "code",
      "source": [
        "import csv\n",
        "import matplotlib.pyplot as plt\n",
        "import os\n",
        "def readTrafficSign(path):\n",
        "  images=[]\n",
        "  labels=[]\n",
        "  for i in range(len(os.listdir(path))):\n",
        "    prefix=(path+'/'+format(i,'05d'))+'/'\n",
        "    getfile=open(prefix+'GT-'+format(i,'05d')+'.csv')\n",
        "    gtReader=csv.reader(getfile,delimiter=\";\")\n",
        "    gtReader.__next__()\n",
        "    for row in gtReader:\n",
        "      images.append(plt.imread(prefix+row[0][:-3]+'jpeg'))\n",
        "      labels.append(row[7])\n",
        "    getfile.close()\n",
        "  return images,labels\n",
        "\n",
        "img,label=readTrafficSign('./Classification/GTSRB/Final_Training/Images')"
      ],
      "metadata": {
        "id": "QXaL9kO2n1XP"
      },
      "execution_count": 52,
      "outputs": []
    },
    {
      "cell_type": "code",
      "source": [
        "print(len(img))"
      ],
      "metadata": {
        "colab": {
          "base_uri": "https://localhost:8080/"
        },
        "id": "HyODMJ60Qd-A",
        "outputId": "b11ebf3a-0577-4524-fca2-91742ad1299e"
      },
      "execution_count": 53,
      "outputs": [
        {
          "output_type": "stream",
          "name": "stdout",
          "text": [
            "39209\n"
          ]
        }
      ]
    }
  ]
}